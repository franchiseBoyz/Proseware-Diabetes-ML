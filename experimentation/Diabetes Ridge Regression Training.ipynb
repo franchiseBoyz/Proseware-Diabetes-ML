{
 "cells": [
  {
   "cell_type": "markdown",
   "metadata": {},
   "source": [
    "# Train a Ridge Regression Model on the Diabetes Dataset"
   ]
  },
  {
   "cell_type": "markdown",
   "metadata": {},
   "source": [
    "This notebook loads the Diabetes dataset from sklearn, splits the data into training and validation sets, trains a Ridge regression model, validates the model on the validation set, and saves the model."
   ]
  },
  {
   "cell_type": "code",
   "execution_count": 12,
   "metadata": {},
   "outputs": [],
   "source": [
    "from sklearn.datasets import load_diabetes\n",
    "from sklearn.linear_model import Ridge\n",
    "from sklearn.metrics import mean_squared_error\n",
    "from sklearn.model_selection import train_test_split\n",
    "import joblib\n",
    "import pandas as pd"
   ]
  },
  {
   "cell_type": "markdown",
   "metadata": {},
   "source": [
    "## Split Data into Training and Validation Sets"
   ]
  },
  {
   "cell_type": "code",
   "execution_count": 13,
   "metadata": {},
   "outputs": [],
   "source": [
    "# Split the dataframe into test and train\n",
    "def split_data(df):\n",
    "    X = df.drop('Y', axis=1).values\n",
    "    y = df['Y'].values\n",
    "\n",
    "    X_train, X_test, y_train, y_test = train_test_split(\n",
    "        X, y, test_size=0.2, random_state=0)\n",
    "    data = {\"train\": {\"X\": X_train, \"y\": y_train},\n",
    "            \"test\": {\"X\": X_test, \"y\": y_test}}\n",
    "            \n",
    "    return data"
   ]
  },
  {
   "cell_type": "markdown",
   "metadata": {},
   "source": [
    "## Train Model on Training Set"
   ]
  },
  {
   "cell_type": "code",
   "execution_count": 14,
   "metadata": {},
   "outputs": [],
   "source": [
    "# experiment parameters\n",
    "def train_model(data, args):\n",
    "    reg_model = Ridge(**args)\n",
    "    reg_model.fit(data[\"train\"][\"X\"], data[\"train\"][\"y\"])\n",
    "\n",
    "    return reg_model"
   ]
  },
  {
   "cell_type": "markdown",
   "metadata": {},
   "source": [
    "## Validate Model on Validation Set"
   ]
  },
  {
   "cell_type": "code",
   "execution_count": 15,
   "metadata": {},
   "outputs": [],
   "source": [
    "def model_metrics(reg_model, data):\n",
    "    preds = reg_model.predict(data[\"test\"][\"X\"])\n",
    "    mse = mean_squared_error(preds, y_test)\n",
    "    metrics = {\"mse\": mse}\n",
    "    \n",
    "    return metrics"
   ]
  },
  {
   "cell_type": "code",
   "execution_count": 17,
   "metadata": {},
   "outputs": [],
   "source": [
    "def main():\n",
    "    # Load Data\n",
    "    sample_data = load_diabetes()\n",
    "\n",
    "    df = pd.DataFrame(\n",
    "        data=sample_data.data,\n",
    "        columns=sample_data.feature_names)\n",
    "    df['Y'] = sample_data.target\n",
    "\n",
    "    # Split Data into Training and Validation Sets\n",
    "    data = split_data(df)\n",
    "\n",
    "    # Train Model on Training Set\n",
    "    args = {\n",
    "        \"alpha\": 0.5\n",
    "    }\n",
    "    reg = train_model(data, args)\n",
    "\n",
    "    # Validate Model on Validation Set\n",
    "    metrics = model_metrics(reg, data)\n",
    "\n",
    "    # Save Model\n",
    "    model_name = \"sklearn_regression_model.pkl\"\n",
    "\n",
    "    joblib.dump(value=reg, filename=model_name)\n",
    "\n",
    "main()"
   ]
  }
 ],
 "metadata": {
  "kernelspec": {
   "display_name": "Python 3",
   "language": "python",
   "name": "python3"
  },
  "language_info": {
   "codemirror_mode": {
    "name": "ipython",
    "version": 3
   },
   "file_extension": ".py",
   "mimetype": "text/x-python",
   "name": "python",
   "nbconvert_exporter": "python",
   "pygments_lexer": "ipython3",
   "version": "3.11.4"
  }
 },
 "nbformat": 4,
 "nbformat_minor": 2
}
